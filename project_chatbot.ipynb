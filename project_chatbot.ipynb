{
 "cells": [
  {
   "cell_type": "markdown",
   "id": "2288cc96",
   "metadata": {},
   "source": [
    "# CHATBOT FOR DATA SCIENCE QUESTIONS "
   ]
  },
  {
   "cell_type": "markdown",
   "id": "45e7cdd8",
   "metadata": {},
   "source": [
    "## Importing Libraries"
   ]
  },
  {
   "cell_type": "code",
   "execution_count": 1,
   "id": "aebb8c0a",
   "metadata": {
    "ExecuteTime": {
     "end_time": "2021-10-07T10:59:40.566050Z",
     "start_time": "2021-10-07T10:57:53.044449Z"
    }
   },
   "outputs": [
    {
     "name": "stderr",
     "output_type": "stream",
     "text": [
      "[nltk_data] Downloading package punkt to\n",
      "[nltk_data]     C:\\Users\\NITHU\\AppData\\Roaming\\nltk_data...\n",
      "[nltk_data]   Package punkt is already up-to-date!\n"
     ]
    }
   ],
   "source": [
    "import pandas as pd\n",
    "import numpy as np\n",
    "import tensorflow\n",
    "from tensorflow.keras.models import Sequential\n",
    "from tensorflow.keras.layers import Dense, Activation, Dropout\n",
    "from tensorflow.keras.optimizers import SGD\n",
    "import random\n",
    "import nltk\n",
    "nltk.download('punkt')\n",
    "from nltk.stem import WordNetLemmatizer\n",
    "lemmatizer = WordNetLemmatizer()\n",
    "import pickle"
   ]
  },
  {
   "cell_type": "markdown",
   "id": "64376ed0",
   "metadata": {},
   "source": [
    "## Loading dataset "
   ]
  },
  {
   "cell_type": "code",
   "execution_count": 2,
   "id": "0a97f27f",
   "metadata": {
    "ExecuteTime": {
     "end_time": "2021-10-07T10:59:40.995947Z",
     "start_time": "2021-10-07T10:59:40.590310Z"
    }
   },
   "outputs": [
    {
     "data": {
      "text/html": [
       "<div>\n",
       "<style scoped>\n",
       "    .dataframe tbody tr th:only-of-type {\n",
       "        vertical-align: middle;\n",
       "    }\n",
       "\n",
       "    .dataframe tbody tr th {\n",
       "        vertical-align: top;\n",
       "    }\n",
       "\n",
       "    .dataframe thead th {\n",
       "        text-align: right;\n",
       "    }\n",
       "</style>\n",
       "<table border=\"1\" class=\"dataframe\">\n",
       "  <thead>\n",
       "    <tr style=\"text-align: right;\">\n",
       "      <th></th>\n",
       "      <th>topics</th>\n",
       "      <th>questions</th>\n",
       "      <th>answers</th>\n",
       "    </tr>\n",
       "  </thead>\n",
       "  <tbody>\n",
       "    <tr>\n",
       "      <th>0</th>\n",
       "      <td>basic data science</td>\n",
       "      <td>What is Data Science? List the differences bet...</td>\n",
       "      <td>Data Science is a blend of various tools, algo...</td>\n",
       "    </tr>\n",
       "    <tr>\n",
       "      <th>1</th>\n",
       "      <td>Basic Data Science</td>\n",
       "      <td>What is Selection Bias?</td>\n",
       "      <td>Selection bias is a kind of error that occurs ...</td>\n",
       "    </tr>\n",
       "    <tr>\n",
       "      <th>2</th>\n",
       "      <td>Basic Data Science</td>\n",
       "      <td>What is bias variance trade off?</td>\n",
       "      <td>Bias: Bias is an error introduced in your mode...</td>\n",
       "    </tr>\n",
       "    <tr>\n",
       "      <th>3</th>\n",
       "      <td>Basic Data Science</td>\n",
       "      <td>What is a confusion matrix?</td>\n",
       "      <td>The confusion matrix is a 2X2 table that conta...</td>\n",
       "    </tr>\n",
       "    <tr>\n",
       "      <th>4</th>\n",
       "      <td>Statistics</td>\n",
       "      <td>What is the difference between �long� and �wid...</td>\n",
       "      <td>In the wide-format, a subject�s repeated respo...</td>\n",
       "    </tr>\n",
       "    <tr>\n",
       "      <th>...</th>\n",
       "      <td>...</td>\n",
       "      <td>...</td>\n",
       "      <td>...</td>\n",
       "    </tr>\n",
       "    <tr>\n",
       "      <th>105</th>\n",
       "      <td>nlp</td>\n",
       "      <td>What do you understand by Natural Language Pro...</td>\n",
       "      <td>Natural Language Processing is a field of comp...</td>\n",
       "    </tr>\n",
       "    <tr>\n",
       "      <th>106</th>\n",
       "      <td>nlp</td>\n",
       "      <td>List any two real-life applications of Natural...</td>\n",
       "      <td>Google Translate: Google Translate is one of t...</td>\n",
       "    </tr>\n",
       "    <tr>\n",
       "      <th>107</th>\n",
       "      <td>nlp</td>\n",
       "      <td>What are stop words?</td>\n",
       "      <td>Stop words are said to be useless data for a s...</td>\n",
       "    </tr>\n",
       "    <tr>\n",
       "      <th>108</th>\n",
       "      <td>nlp</td>\n",
       "      <td>What is NLTK?</td>\n",
       "      <td>NLTK is a Python library, which stands for Nat...</td>\n",
       "    </tr>\n",
       "    <tr>\n",
       "      <th>109</th>\n",
       "      <td>nlp</td>\n",
       "      <td>List the components of Natural Language Proces...</td>\n",
       "      <td>Entity extraction: Entity extraction refers to...</td>\n",
       "    </tr>\n",
       "  </tbody>\n",
       "</table>\n",
       "<p>110 rows × 3 columns</p>\n",
       "</div>"
      ],
      "text/plain": [
       "                  topics                                          questions  \\\n",
       "0     basic data science  What is Data Science? List the differences bet...   \n",
       "1    Basic Data Science                             What is Selection Bias?   \n",
       "2    Basic Data Science                    What is bias variance trade off?   \n",
       "3    Basic Data Science                         What is a confusion matrix?   \n",
       "4            Statistics   What is the difference between �long� and �wid...   \n",
       "..                   ...                                                ...   \n",
       "105                  nlp  What do you understand by Natural Language Pro...   \n",
       "106                  nlp  List any two real-life applications of Natural...   \n",
       "107                  nlp                               What are stop words?   \n",
       "108                  nlp                                      What is NLTK?   \n",
       "109                  nlp  List the components of Natural Language Proces...   \n",
       "\n",
       "                                               answers  \n",
       "0    Data Science is a blend of various tools, algo...  \n",
       "1    Selection bias is a kind of error that occurs ...  \n",
       "2    Bias: Bias is an error introduced in your mode...  \n",
       "3    The confusion matrix is a 2X2 table that conta...  \n",
       "4    In the wide-format, a subject�s repeated respo...  \n",
       "..                                                 ...  \n",
       "105  Natural Language Processing is a field of comp...  \n",
       "106  Google Translate: Google Translate is one of t...  \n",
       "107  Stop words are said to be useless data for a s...  \n",
       "108  NLTK is a Python library, which stands for Nat...  \n",
       "109  Entity extraction: Entity extraction refers to...  \n",
       "\n",
       "[110 rows x 3 columns]"
      ]
     },
     "execution_count": 2,
     "metadata": {},
     "output_type": "execute_result"
    }
   ],
   "source": [
    "data = pd.read_csv('data_new.csv').drop(['Unnamed: 0','Q.no.'],axis=1)\n",
    "data"
   ]
  },
  {
   "cell_type": "markdown",
   "id": "08e49575",
   "metadata": {},
   "source": [
    "## Data Preprocessing"
   ]
  },
  {
   "cell_type": "code",
   "execution_count": 3,
   "id": "a37dfe03",
   "metadata": {
    "ExecuteTime": {
     "end_time": "2021-10-07T11:00:02.526658Z",
     "start_time": "2021-10-07T10:59:41.058194Z"
    }
   },
   "outputs": [
    {
     "name": "stderr",
     "output_type": "stream",
     "text": [
      "[nltk_data] Downloading package wordnet to\n",
      "[nltk_data]     C:\\Users\\NITHU\\AppData\\Roaming\\nltk_data...\n",
      "[nltk_data]   Package wordnet is already up-to-date!\n",
      "[nltk_data] Downloading package punkt to\n",
      "[nltk_data]     C:\\Users\\NITHU\\AppData\\Roaming\\nltk_data...\n",
      "[nltk_data]   Package punkt is already up-to-date!\n",
      "[nltk_data] Downloading package stopwords to\n",
      "[nltk_data]     C:\\Users\\NITHU\\AppData\\Roaming\\nltk_data...\n",
      "[nltk_data]   Package stopwords is already up-to-date!\n"
     ]
    }
   ],
   "source": [
    "import re\n",
    "import string\n",
    "import nltk\n",
    "nltk.download('wordnet')\n",
    "from nltk.tokenize import word_tokenize\n",
    "from nltk.corpus import stopwords\n",
    "nltk.download('punkt')\n",
    "nltk.download('stopwords')\n",
    "from textblob import TextBlob\n",
    "from nltk.corpus import stopwords\n",
    "from nltk.stem import WordNetLemmatizer\n",
    "from nltk.stem import WordNetLemmatizer\n",
    "lemmatizer = WordNetLemmatizer()\n",
    "from collections import Counter\n",
    "import joblib\n",
    "from nltk import pos_tag\n",
    "import gensim\n",
    "from gensim import corpora, models, similarities\n",
    "from sklearn.metrics.pairwise import cosine_similarity"
   ]
  },
  {
   "cell_type": "code",
   "execution_count": 4,
   "id": "ffc2a9b0",
   "metadata": {
    "ExecuteTime": {
     "end_time": "2021-10-07T11:00:02.645028Z",
     "start_time": "2021-10-07T11:00:02.606462Z"
    }
   },
   "outputs": [],
   "source": [
    "def clean_text(text):\n",
    "    text = text.lower().strip()                                               # lower case\n",
    "    text = re.sub(r\"\\S*https?:\\S*\", \"\", text)                                 # removing links\n",
    "    text = re.sub('\\[.*?\\]', '', text)                                        # removing text in square brackets\n",
    "    text = re.sub(r\"[’…�]\", \"\", text)                                        # removing special chracters\n",
    "    text = re.sub(\"[0-9\" \"]+\",\" \",text)                                       # removing numbers\n",
    "    text = text.translate(str.maketrans('', '', string.punctuation))          # remove punctuations \n",
    "    return text\n",
    "clean = lambda x: clean_text(x)"
   ]
  },
  {
   "cell_type": "code",
   "execution_count": 5,
   "id": "abf1d3ed",
   "metadata": {
    "ExecuteTime": {
     "end_time": "2021-10-07T11:00:02.848371Z",
     "start_time": "2021-10-07T11:00:02.717466Z"
    }
   },
   "outputs": [],
   "source": [
    "data['topics'] = data['topics'].apply(clean)\n",
    "data['questions'] = data['questions'].apply(clean)\n",
    "data['answers'] = data['answers'].apply(clean)"
   ]
  },
  {
   "cell_type": "code",
   "execution_count": 6,
   "id": "eec7b94e",
   "metadata": {
    "ExecuteTime": {
     "end_time": "2021-10-07T11:00:02.964369Z",
     "start_time": "2021-10-07T11:00:02.932831Z"
    }
   },
   "outputs": [],
   "source": [
    "def lemmatize_text(questions):\n",
    "    stop_words = stopwords.words(\"english\")\n",
    "    newStopWords = ['different','example','used','also','likely','non','use','take','often','recent','see','head','tell','back',\n",
    "                    'etc','give','using','would','given','due','called','make','many','image','understand',\n",
    "                    'difference','preferred','eg','fruit',\n",
    "                    'help','may','try','u','explain','happen','define','reason','describe','cite','coin','star','girl']\n",
    "    stop_words.extend(newStopWords)\n",
    "    questions = [re.sub('[^a-z(+)(#)]', ' ', x.lower()) for x in questions]\n",
    "    questions_tokens = [nltk.word_tokenize(t) for t in questions]\n",
    "    questions_stop = [[t for t in tokens if (t not in stop_words) and (3 < len(t.strip()) < 15)]\n",
    "                      for tokens in questions_tokens]\n",
    "    questions_stop = pd.Series(questions_stop)\n",
    "    return questions_stop"
   ]
  },
  {
   "cell_type": "code",
   "execution_count": 7,
   "id": "10b3b742",
   "metadata": {
    "ExecuteTime": {
     "end_time": "2021-10-07T11:00:03.256095Z",
     "start_time": "2021-10-07T11:00:03.044390Z"
    }
   },
   "outputs": [],
   "source": [
    "questions = data['questions']\n",
    "questions_pp = lemmatize_text(questions)"
   ]
  },
  {
   "cell_type": "code",
   "execution_count": 8,
   "id": "389ce97e",
   "metadata": {
    "ExecuteTime": {
     "end_time": "2021-10-07T11:00:03.438058Z",
     "start_time": "2021-10-07T11:00:03.384884Z"
    }
   },
   "outputs": [
    {
     "data": {
      "text/html": [
       "<div>\n",
       "<style scoped>\n",
       "    .dataframe tbody tr th:only-of-type {\n",
       "        vertical-align: middle;\n",
       "    }\n",
       "\n",
       "    .dataframe tbody tr th {\n",
       "        vertical-align: top;\n",
       "    }\n",
       "\n",
       "    .dataframe thead th {\n",
       "        text-align: right;\n",
       "    }\n",
       "</style>\n",
       "<table border=\"1\" class=\"dataframe\">\n",
       "  <thead>\n",
       "    <tr style=\"text-align: right;\">\n",
       "      <th></th>\n",
       "      <th>topics</th>\n",
       "      <th>answers</th>\n",
       "      <th>questions</th>\n",
       "      <th>questions_tokens</th>\n",
       "    </tr>\n",
       "  </thead>\n",
       "  <tbody>\n",
       "    <tr>\n",
       "      <th>0</th>\n",
       "      <td>basic data science</td>\n",
       "      <td>data science is a blend of various tools algor...</td>\n",
       "      <td>what is data science list the differences betw...</td>\n",
       "      <td>[data, science, list, differences, supervised,...</td>\n",
       "    </tr>\n",
       "    <tr>\n",
       "      <th>1</th>\n",
       "      <td>basic data science</td>\n",
       "      <td>selection bias is a kind of error that occurs ...</td>\n",
       "      <td>what is selection bias</td>\n",
       "      <td>[selection, bias]</td>\n",
       "    </tr>\n",
       "    <tr>\n",
       "      <th>2</th>\n",
       "      <td>basic data science</td>\n",
       "      <td>bias bias is an error introduced in your model...</td>\n",
       "      <td>what is bias variance trade off</td>\n",
       "      <td>[bias, variance, trade]</td>\n",
       "    </tr>\n",
       "    <tr>\n",
       "      <th>3</th>\n",
       "      <td>basic data science</td>\n",
       "      <td>the confusion matrix is a  x  table that conta...</td>\n",
       "      <td>what is a confusion matrix</td>\n",
       "      <td>[confusion, matrix]</td>\n",
       "    </tr>\n",
       "    <tr>\n",
       "      <th>4</th>\n",
       "      <td>statistics</td>\n",
       "      <td>in the wideformat a subjects repeated response...</td>\n",
       "      <td>what is the difference between long and wide f...</td>\n",
       "      <td>[long, wide, format, data]</td>\n",
       "    </tr>\n",
       "  </tbody>\n",
       "</table>\n",
       "</div>"
      ],
      "text/plain": [
       "               topics                                            answers  \\\n",
       "0  basic data science  data science is a blend of various tools algor...   \n",
       "1  basic data science  selection bias is a kind of error that occurs ...   \n",
       "2  basic data science  bias bias is an error introduced in your model...   \n",
       "3  basic data science  the confusion matrix is a  x  table that conta...   \n",
       "4          statistics  in the wideformat a subjects repeated response...   \n",
       "\n",
       "                                           questions  \\\n",
       "0  what is data science list the differences betw...   \n",
       "1                             what is selection bias   \n",
       "2                    what is bias variance trade off   \n",
       "3                         what is a confusion matrix   \n",
       "4  what is the difference between long and wide f...   \n",
       "\n",
       "                                    questions_tokens  \n",
       "0  [data, science, list, differences, supervised,...  \n",
       "1                                  [selection, bias]  \n",
       "2                            [bias, variance, trade]  \n",
       "3                                [confusion, matrix]  \n",
       "4                         [long, wide, format, data]  "
      ]
     },
     "execution_count": 8,
     "metadata": {},
     "output_type": "execute_result"
    }
   ],
   "source": [
    "data = pd.DataFrame({'topics': list(data['topics']),\n",
    "                     'answers': list(data['answers']),\n",
    "                     'questions': list(data['questions']),\n",
    "                     'questions_tokens': questions_pp})\n",
    "data.head()"
   ]
  },
  {
   "cell_type": "code",
   "execution_count": 9,
   "id": "ca79805e",
   "metadata": {
    "ExecuteTime": {
     "end_time": "2021-10-07T11:00:03.628129Z",
     "start_time": "2021-10-07T11:00:03.566401Z"
    }
   },
   "outputs": [
    {
     "data": {
      "text/plain": [
       "machine learning      30\n",
       "statistics            23\n",
       "data analytics        20\n",
       "deep learning         16\n",
       "nlp                   15\n",
       "basic data science     6\n",
       "Name: topics, dtype: int64"
      ]
     },
     "execution_count": 9,
     "metadata": {},
     "output_type": "execute_result"
    }
   ],
   "source": [
    "data.topics.value_counts()"
   ]
  },
  {
   "cell_type": "markdown",
   "id": "94c45fea",
   "metadata": {},
   "source": [
    "## Word2Vec Modeling "
   ]
  },
  {
   "cell_type": "code",
   "execution_count": 10,
   "id": "0f4e11cf",
   "metadata": {
    "ExecuteTime": {
     "end_time": "2021-10-07T11:00:03.841211Z",
     "start_time": "2021-10-07T11:00:03.729920Z"
    }
   },
   "outputs": [],
   "source": [
    "def train_model(train_data):\n",
    "    \"\"\"Function trains and creates Word2vec Model using parsed\n",
    "    data and returns trained model\"\"\"\n",
    "    model = gensim.models.Word2Vec(train_data, min_count=1)\n",
    "    return model"
   ]
  },
  {
   "cell_type": "code",
   "execution_count": 11,
   "id": "ba9b0d60",
   "metadata": {
    "ExecuteTime": {
     "end_time": "2021-10-07T11:00:05.669662Z",
     "start_time": "2021-10-07T11:00:03.959800Z"
    }
   },
   "outputs": [
    {
     "name": "stdout",
     "output_type": "stream",
     "text": [
      "Saved word2vec_model_machine learning model successfully\n",
      "Saved word2vec_model_statistics model successfully\n",
      "Saved word2vec_model_deep learning model successfully\n",
      "Saved word2vec_model_data analytics model successfully\n",
      "Saved word2vec_model_nlp model successfully\n",
      "Saved word2vec_model_basic data science model successfully\n"
     ]
    }
   ],
   "source": [
    "dict_language = {'0': 'machine learning', '1': 'statistics', '2': 'deep learning', '3': 'data analytics', '4': 'nlp',\n",
    "                 '5': 'basic data science'}\n",
    "\n",
    "data['Question_Vectors'] = None\n",
    "data['Average_Pooling'] = None\n",
    "    \n",
    "for key, value in dict_language.items():\n",
    "    questions_data = list(data[data['topics'] == value]['questions_tokens'])\n",
    "    model_name = 'word2vec_model_' + value\n",
    "    trained_model = train_model(questions_data)\n",
    "    trained_model.save(model_name)\n",
    "    print('Saved %s model successfully' % model_name)\n",
    "    word2vec_pickle_path = 'chatbot_word2vec_' + value + '.bin'\n",
    "    f = open(word2vec_pickle_path, 'wb')\n",
    "    pickle.dump(trained_model, f) \n",
    "    f.close()\n",
    "    \n",
    "    model = gensim.models.KeyedVectors.load(word2vec_pickle_path) \n",
    "    pickle.dump(model,open('model.pkl','wb'))\n",
    "    \n",
    "\n",
    "    for i in range(len(data)):\n",
    "        if data['topics'][i] == value:\n",
    "            questions_tokens = data['questions_tokens'][i]\n",
    "            question_vectors = []\n",
    "            for token in questions_tokens:\n",
    "                try:\n",
    "                    vector = model.wv[token]\n",
    "                    question_vectors.append(vector)\n",
    "                except:\n",
    "                    continue\n",
    "            data['Question_Vectors'][i] = question_vectors\n",
    "            data['Average_Pooling'][i] = list(pd.DataFrame(question_vectors).mean())"
   ]
  },
  {
   "cell_type": "code",
   "execution_count": 12,
   "id": "eeb55e80",
   "metadata": {
    "ExecuteTime": {
     "end_time": "2021-10-07T11:00:06.028582Z",
     "start_time": "2021-10-07T11:00:05.916235Z"
    }
   },
   "outputs": [
    {
     "data": {
      "text/html": [
       "<div>\n",
       "<style scoped>\n",
       "    .dataframe tbody tr th:only-of-type {\n",
       "        vertical-align: middle;\n",
       "    }\n",
       "\n",
       "    .dataframe tbody tr th {\n",
       "        vertical-align: top;\n",
       "    }\n",
       "\n",
       "    .dataframe thead th {\n",
       "        text-align: right;\n",
       "    }\n",
       "</style>\n",
       "<table border=\"1\" class=\"dataframe\">\n",
       "  <thead>\n",
       "    <tr style=\"text-align: right;\">\n",
       "      <th></th>\n",
       "      <th>topics</th>\n",
       "      <th>answers</th>\n",
       "      <th>questions</th>\n",
       "      <th>questions_tokens</th>\n",
       "      <th>Question_Vectors</th>\n",
       "      <th>Average_Pooling</th>\n",
       "      <th>question_length</th>\n",
       "    </tr>\n",
       "  </thead>\n",
       "  <tbody>\n",
       "    <tr>\n",
       "      <th>0</th>\n",
       "      <td>basic data science</td>\n",
       "      <td>data science is a blend of various tools algor...</td>\n",
       "      <td>what is data science list the differences betw...</td>\n",
       "      <td>data science list differences supervised unsup...</td>\n",
       "      <td>[[0.009735549, -0.009780383, -0.0064994907, 0....</td>\n",
       "      <td>[0.0013802927652640001, -0.0022631725961608546...</td>\n",
       "      <td>62</td>\n",
       "    </tr>\n",
       "    <tr>\n",
       "      <th>1</th>\n",
       "      <td>basic data science</td>\n",
       "      <td>selection bias is a kind of error that occurs ...</td>\n",
       "      <td>what is selection bias</td>\n",
       "      <td>selection bias</td>\n",
       "      <td>[[-0.007139015, 0.0012410306, -0.0071767163, -...</td>\n",
       "      <td>[-0.0035222255246480927, 0.0021591746481135488...</td>\n",
       "      <td>14</td>\n",
       "    </tr>\n",
       "    <tr>\n",
       "      <th>2</th>\n",
       "      <td>basic data science</td>\n",
       "      <td>bias bias is an error introduced in your model...</td>\n",
       "      <td>what is bias variance trade off</td>\n",
       "      <td>bias variance trade</td>\n",
       "      <td>[[9.456396e-05, 0.0030773187, -0.0068126465, -...</td>\n",
       "      <td>[0.00012164851068519056, 0.006934074296926458,...</td>\n",
       "      <td>19</td>\n",
       "    </tr>\n",
       "    <tr>\n",
       "      <th>3</th>\n",
       "      <td>basic data science</td>\n",
       "      <td>the confusion matrix is a  x  table that conta...</td>\n",
       "      <td>what is a confusion matrix</td>\n",
       "      <td>confusion matrix</td>\n",
       "      <td>[[-0.008620501, 0.0036665255, 0.0051904307, 0....</td>\n",
       "      <td>[-0.004578363907057792, 0.0019514778177835979,...</td>\n",
       "      <td>16</td>\n",
       "    </tr>\n",
       "    <tr>\n",
       "      <th>4</th>\n",
       "      <td>statistics</td>\n",
       "      <td>in the wideformat a subjects repeated response...</td>\n",
       "      <td>what is the difference between long and wide f...</td>\n",
       "      <td>long wide format data</td>\n",
       "      <td>[[-0.0006022507, 0.0014123637, -0.001195034, -...</td>\n",
       "      <td>[0.00039192516123875976, 0.0003868712228722870...</td>\n",
       "      <td>21</td>\n",
       "    </tr>\n",
       "  </tbody>\n",
       "</table>\n",
       "</div>"
      ],
      "text/plain": [
       "               topics                                            answers  \\\n",
       "0  basic data science  data science is a blend of various tools algor...   \n",
       "1  basic data science  selection bias is a kind of error that occurs ...   \n",
       "2  basic data science  bias bias is an error introduced in your model...   \n",
       "3  basic data science  the confusion matrix is a  x  table that conta...   \n",
       "4          statistics  in the wideformat a subjects repeated response...   \n",
       "\n",
       "                                           questions  \\\n",
       "0  what is data science list the differences betw...   \n",
       "1                             what is selection bias   \n",
       "2                    what is bias variance trade off   \n",
       "3                         what is a confusion matrix   \n",
       "4  what is the difference between long and wide f...   \n",
       "\n",
       "                                    questions_tokens  \\\n",
       "0  data science list differences supervised unsup...   \n",
       "1                                     selection bias   \n",
       "2                                bias variance trade   \n",
       "3                                   confusion matrix   \n",
       "4                              long wide format data   \n",
       "\n",
       "                                    Question_Vectors  \\\n",
       "0  [[0.009735549, -0.009780383, -0.0064994907, 0....   \n",
       "1  [[-0.007139015, 0.0012410306, -0.0071767163, -...   \n",
       "2  [[9.456396e-05, 0.0030773187, -0.0068126465, -...   \n",
       "3  [[-0.008620501, 0.0036665255, 0.0051904307, 0....   \n",
       "4  [[-0.0006022507, 0.0014123637, -0.001195034, -...   \n",
       "\n",
       "                                     Average_Pooling  question_length  \n",
       "0  [0.0013802927652640001, -0.0022631725961608546...               62  \n",
       "1  [-0.0035222255246480927, 0.0021591746481135488...               14  \n",
       "2  [0.00012164851068519056, 0.006934074296926458,...               19  \n",
       "3  [-0.004578363907057792, 0.0019514778177835979,...               16  \n",
       "4  [0.00039192516123875976, 0.0003868712228722870...               21  "
      ]
     },
     "execution_count": 12,
     "metadata": {},
     "output_type": "execute_result"
    }
   ],
   "source": [
    "data['questions_tokens'] = [\" \".join(l) for l in data['questions_tokens']]\n",
    "length = data['questions_tokens'].apply(len)\n",
    "data = data.assign(question_length=length)\n",
    "data.head()"
   ]
  },
  {
   "cell_type": "markdown",
   "id": "735fd886",
   "metadata": {},
   "source": [
    "## Greetings function for bot "
   ]
  },
  {
   "cell_type": "code",
   "execution_count": 13,
   "id": "68565afb",
   "metadata": {
    "ExecuteTime": {
     "end_time": "2021-10-07T11:00:06.350644Z",
     "start_time": "2021-10-07T11:00:06.332783Z"
    }
   },
   "outputs": [],
   "source": [
    "GREETING_INPUTS = (\"hello\", \"hi\", \"greetings\", \"hello i need help\", \"good day\",\"hey\",\"i need help\", \"greetings\")\n",
    "GREETING_RESPONSES = [\"Good day, How may i help u?\", \"Hello, How can i help?\", \"hello\", \"I am glad! You are talking to me.\"]\n",
    "           \n",
    "def greeting(sentence):\n",
    "    for word in sentence.split():\n",
    "        if word.lower() in GREETING_INPUTS:\n",
    "            return random.choice(GREETING_RESPONSES)"
   ]
  },
  {
   "cell_type": "markdown",
   "id": "d07d2690",
   "metadata": {},
   "source": [
    "## Function for talking to bot"
   ]
  },
  {
   "cell_type": "code",
   "execution_count": 14,
   "id": "46eebd6a",
   "metadata": {
    "ExecuteTime": {
     "end_time": "2021-10-07T11:00:06.633214Z",
     "start_time": "2021-10-07T11:00:06.604208Z"
    }
   },
   "outputs": [],
   "source": [
    "def talk_to_bot(data_language, model):\n",
    "    sentence_pp = lemmatize_text(pd.Series(sentence)) \n",
    "    cosines = []\n",
    "    try:\n",
    "        question_vectors = []\n",
    "        for token in sentence_pp:\n",
    "            try:\n",
    "                vector = model.wv[token]\n",
    "                question_vectors.append(vector)\n",
    "            except:\n",
    "                continue\n",
    "        question_ap = list(pd.DataFrame(question_vectors[0]).mean())\n",
    "        for t in data_language['Average_Pooling']:\n",
    "            if t is not None and len(t) == len(question_ap):\n",
    "                val = cosine_similarity([question_ap], [t])\n",
    "                cosines.append(val[0][0])\n",
    "            else:\n",
    "                cosines.append(0)\n",
    "    except:\n",
    "        pass\n",
    "            \n",
    "    if len(cosines) == 0:\n",
    "        not_understood = \"OOPS, I don't understand. Can you rephrase it?\"\n",
    "        return not_understood, 999   \n",
    "    else: \n",
    "        index_s =[]\n",
    "        score_s = []\n",
    "        for i in range(len(cosines)):\n",
    "            x = cosines[i]\n",
    "            if x >= 0.5:\n",
    "                index_s.append(i)\n",
    "                score_s.append(cosines[i])\n",
    "        reply_indexes = pd.DataFrame({'index': index_s, 'score': score_s})\n",
    "        reply_indexes = reply_indexes.sort_values(by=\"score\" , ascending=False)\n",
    "        r_index = int(reply_indexes['index'].iloc[0])\n",
    "        r_score = float(reply_indexes['score'].iloc[0])\n",
    "        reply = str(data_language.iloc[:,2][r_index])  \n",
    "    return reply, r_score"
   ]
  },
  {
   "cell_type": "markdown",
   "id": "0725bedd",
   "metadata": {},
   "source": [
    "## Python framework for conversation"
   ]
  },
  {
   "cell_type": "code",
   "execution_count": 15,
   "id": "d64c9502",
   "metadata": {
    "ExecuteTime": {
     "end_time": "2021-10-07T11:00:35.447734Z",
     "start_time": "2021-10-07T11:00:06.882199Z"
    }
   },
   "outputs": [
    {
     "name": "stdout",
     "output_type": "stream",
     "text": [
      "......................................................................................\n",
      "\u001b[1;37;40mDat-Sci\u001b[0m: My name is Dat-Sci, Data Science Question Answer Bot.\n",
      "\u001b[1;37;40mDat-Sci\u001b[0m: I will try my best to answer your query.\n",
      "\u001b[1;37;40mDat-Sci\u001b[0m: If you want to exit, you can type < bye >.\n",
      "......................................................................................\n",
      "\u001b[1;37;40mDat-Sci\u001b[0m: Please select which area you want to enquire, you can type:\n",
      "\u001b[1;37;40mDat-Sci\u001b[0m: < 0 > for machine learning     < 1 > for statistics     < 2 > deep learning\n",
      "\u001b[1;37;40mDat-Sci\u001b[0m: < 3 > for data analytics       < 4 > for nlp            < 5 > for basic data science\n",
      "......................................................................................\n",
      "USER  :0\n",
      "......................................................................................\n",
      "\u001b[1;37;40mDat-Sci\u001b[0m: Lets start! Please input your question now.\n",
      "......................................................................................\n",
      "USER  :what is machine learning?\n",
      "......................................................................................\n",
      "\u001b[1;37;40mDatSci\u001b[0m: machine learning explores the study and construction of algorithms that can learn from and make predictions on data closely related to computational statistics used to devise complex models and algorithms that lend themselves to a prediction which in commercial use is known as predictive analytics given below is an image representing the various domains machine learning lends itself to\n",
      "......................................................................................\n",
      "USER  :bye\n",
      "......................................................................................\n",
      "\u001b[1;37;40mDat-Sci\u001b[0m: Bye! Hope that I am useful to you. Have a nice day.\n"
     ]
    }
   ],
   "source": [
    "flag_language = True\n",
    "flag_query = True\n",
    "dict_language = {'0': 'machine learning', '1': 'statistics', '2': 'deep learning', '3': 'data analytics', '4': 'nlp',\n",
    "                 '5': 'basic data science'}\n",
    "print('......................................................................................')\n",
    "print('\\x1b[1;37;40m' + 'Dat-Sci' + '\\x1b[0m' + ': ' + 'My name is Dat-Sci, Data Science Question Answer Bot.')\n",
    "print('\\x1b[1;37;40m' + 'Dat-Sci' + '\\x1b[0m' + ': ' + 'I will try my best to answer your query.')\n",
    "print('\\x1b[1;37;40m' + 'Dat-Sci' + '\\x1b[0m' + ': ' + 'If you want to exit, you can type < bye >.')\n",
    "\n",
    "while(flag_language == True):\n",
    "    print(\"......................................................................................\")\n",
    "    print('\\x1b[1;37;40m' + 'Dat-Sci' + '\\x1b[0m' + ': ' + 'Please select which area you want to enquire, ' +\n",
    "      'you can type:')\n",
    "    print('\\x1b[1;37;40m' + 'Dat-Sci' + '\\x1b[0m' + ': ' + '< 0 > for machine learning     < 1 > for statistics     < 2 > deep learning')\n",
    "    print('\\x1b[1;37;40m' + 'Dat-Sci' + '\\x1b[0m' + ': ' + '< 3 > for data analytics       < 4 > for nlp            < 5 > for basic data science')\n",
    "    print(\"......................................................................................\")\n",
    "    sentence = input('\\x1b[0;30;47m' + 'USER  ' + '\\x1b[0m' + ':' )\n",
    "    print(\"......................................................................................\")\n",
    "    \n",
    "    if(sentence.lower() != 'bye'):\n",
    "        if (sentence.lower() in list(dict_language.keys())):\n",
    "            language = dict_language[sentence.lower()]\n",
    "            data_language = data[data['topics'] == language]\n",
    "            data_language = pd.DataFrame({'question': list(data_language['questions']),\n",
    "                                          'question_tokens': list(data_language['questions_tokens']),\n",
    "                                          'answer': list(data_language['answers']),\n",
    "                                          'topics': list(data_language['topics']),\n",
    "                                          'Question_Vectors': list(data_language['Question_Vectors']),\n",
    "                                          'Average_Pooling': list(data_language['Average_Pooling'])\n",
    "                                         })\n",
    "            \n",
    "            word2vec_pickle_path = 'chatbot_word2vec_' + language + '.bin'\n",
    "            model = gensim.models.KeyedVectors.load(word2vec_pickle_path)\n",
    "            \n",
    "            flag_language = False\n",
    "            flag_query = True\n",
    "    else:\n",
    "        flag_language = False\n",
    "        flag_query = False\n",
    "\n",
    "print('\\x1b[1;37;40m' + 'Dat-Sci' + '\\x1b[0m' + ': ' + 'Let''s start! Please input your question now.')\n",
    "    \n",
    "while(flag_query == True):\n",
    "    print(\"......................................................................................\")\n",
    "    sentence = input('\\x1b[0;30;47m' + 'USER  ' + '\\x1b[0m' + ':')\n",
    "    print(\"......................................................................................\")\n",
    "\n",
    "    if(sentence.lower() != 'bye'):\n",
    "        if(greeting(sentence.lower()) != None):\n",
    "            print('\\x1b[1;37;40m' + 'Dat-Sci' + '\\x1b[0m' + ': ' + greeting(sentence.lower()))\n",
    "        else:\n",
    "            reply, score = talk_to_bot(data_language, model)\n",
    "            print('\\x1b[1;37;40m' + 'DatSci'+'\\x1b[0m'+': '+reply)\n",
    "    else:\n",
    "        flag_query = False\n",
    "print('\\x1b[1;37;40m' + 'Dat-Sci' + '\\x1b[0m' + ': ' + 'Bye! Hope that I am useful to you. Have a nice day.')"
   ]
  },
  {
   "cell_type": "code",
   "execution_count": 16,
   "id": "a67a31c9",
   "metadata": {
    "ExecuteTime": {
     "end_time": "2021-10-07T11:00:37.802657Z",
     "start_time": "2021-10-07T11:00:37.777917Z"
    }
   },
   "outputs": [],
   "source": [
    "pickle.dump(data_language,open('data_language_ml.pkl','wb'))"
   ]
  },
  {
   "cell_type": "code",
   "execution_count": null,
   "id": "78b2dc20",
   "metadata": {},
   "outputs": [],
   "source": [
    "pickle.dump(data_language,open('data_language_da.pkl','wb'))"
   ]
  },
  {
   "cell_type": "code",
   "execution_count": null,
   "id": "05a163fc",
   "metadata": {},
   "outputs": [],
   "source": [
    "pickle.dump(data_language,open('data_language_stat.pkl','wb'))"
   ]
  },
  {
   "cell_type": "code",
   "execution_count": null,
   "id": "7a295437",
   "metadata": {},
   "outputs": [],
   "source": [
    "pickle.dump(data_language,open('data_language_bds.pkl','wb'))"
   ]
  },
  {
   "cell_type": "code",
   "execution_count": null,
   "id": "8ff6443c",
   "metadata": {},
   "outputs": [],
   "source": [
    "pickle.dump(data_language,open('data_language_dl.pkl','wb'))"
   ]
  },
  {
   "cell_type": "code",
   "execution_count": null,
   "id": "82cca5ee",
   "metadata": {},
   "outputs": [],
   "source": [
    "pickle.dump(data_language,open('data_language_nlp.pkl','wb'))"
   ]
  }
 ],
 "metadata": {
  "kernelspec": {
   "display_name": "Python 3",
   "language": "python",
   "name": "python3"
  },
  "language_info": {
   "codemirror_mode": {
    "name": "ipython",
    "version": 3
   },
   "file_extension": ".py",
   "mimetype": "text/x-python",
   "name": "python",
   "nbconvert_exporter": "python",
   "pygments_lexer": "ipython3",
   "version": "3.8.8"
  },
  "toc": {
   "base_numbering": 1,
   "nav_menu": {},
   "number_sections": true,
   "sideBar": true,
   "skip_h1_title": false,
   "title_cell": "Table of Contents",
   "title_sidebar": "Contents",
   "toc_cell": false,
   "toc_position": {},
   "toc_section_display": true,
   "toc_window_display": false
  },
  "varInspector": {
   "cols": {
    "lenName": 16,
    "lenType": 16,
    "lenVar": 40
   },
   "kernels_config": {
    "python": {
     "delete_cmd_postfix": "",
     "delete_cmd_prefix": "del ",
     "library": "var_list.py",
     "varRefreshCmd": "print(var_dic_list())"
    },
    "r": {
     "delete_cmd_postfix": ") ",
     "delete_cmd_prefix": "rm(",
     "library": "var_list.r",
     "varRefreshCmd": "cat(var_dic_list()) "
    }
   },
   "types_to_exclude": [
    "module",
    "function",
    "builtin_function_or_method",
    "instance",
    "_Feature"
   ],
   "window_display": false
  }
 },
 "nbformat": 4,
 "nbformat_minor": 5
}
